{
  "nbformat": 4,
  "nbformat_minor": 0,
  "metadata": {
    "kernelspec": {
      "display_name": "Python 3",
      "language": "python",
      "name": "python3"
    },
    "language_info": {
      "codemirror_mode": {
        "name": "ipython",
        "version": 3
      },
      "file_extension": ".py",
      "mimetype": "text/x-python",
      "name": "python",
      "nbconvert_exporter": "python",
      "pygments_lexer": "ipython3",
      "version": "3.7.3"
    },
    "colab": {
      "name": "Copy of LS_DS_211_assignment.ipynb",
      "provenance": [],
      "include_colab_link": true
    }
  },
  "cells": [
    {
      "cell_type": "markdown",
      "metadata": {
        "id": "view-in-github",
        "colab_type": "text"
      },
      "source": [
        "<a href=\"https://colab.research.google.com/github/rassamyjs/DS-Unit-1-Build/blob/master/Copy_of_LS_DS_211_assignment.ipynb\" target=\"_parent\"><img src=\"https://colab.research.google.com/assets/colab-badge.svg\" alt=\"Open In Colab\"/></a>"
      ]
    },
    {
      "cell_type": "markdown",
      "metadata": {
        "id": "DVee9_MrMK0v"
      },
      "source": [
        "Lambda School Data Science\n",
        "\n",
        "*Unit 2, Sprint 1, Module 1*\n",
        "\n",
        "---"
      ]
    },
    {
      "cell_type": "markdown",
      "metadata": {
        "id": "7IXUfiQ2UKj6"
      },
      "source": [
        "# Regression 1\n",
        "\n",
        "## Assignment\n",
        "\n",
        "You'll use another **New York City** real estate dataset. \n",
        "\n",
        "But now you'll **predict how much it costs to rent an apartment**, instead of how much it costs to buy a condo.\n",
        "\n",
        "The data comes from renthop.com, an apartment listing website.\n",
        "\n",
        "- [ ] Look at the data. Choose a feature, and plot its relationship with the target.\n",
        "- [ ] Use scikit-learn for linear regression with one feature. You can follow the [5-step process from Jake VanderPlas](https://jakevdp.github.io/PythonDataScienceHandbook/05.02-introducing-scikit-learn.html#Basics-of-the-API).\n",
        "- [ ] Define a function to make new predictions and explain the model coefficient.\n",
        "- [ ] Organize and comment your code.\n",
        "\n",
        "> [Do Not Copy-Paste.](https://docs.google.com/document/d/1ubOw9B3Hfip27hF2ZFnW3a3z9xAgrUDRReOEo-FHCVs/edit) You must type each of these exercises in, manually. If you copy and paste, you might as well not even do them. The point of these exercises is to train your hands, your brain, and your mind in how to read, write, and see code. If you copy-paste, you are cheating yourself out of the effectiveness of the lessons.\n",
        "\n",
        "If your **Plotly** visualizations aren't working:\n",
        "- You must have JavaScript enabled in your browser\n",
        "- You probably want to use Chrome or Firefox\n",
        "- You may need to turn off ad blockers\n",
        "- [If you're using Jupyter Lab locally, you need to install some \"extensions\"](https://plot.ly/python/getting-started/#jupyterlab-support-python-35)\n",
        "\n",
        "## Stretch Goals\n",
        "- [ ] Do linear regression with two or more features.\n",
        "- [ ] Read [The Discovery of Statistical Regression](https://priceonomics.com/the-discovery-of-statistical-regression/)\n",
        "- [ ] Read [_An Introduction to Statistical Learning_](http://faculty.marshall.usc.edu/gareth-james/ISL/ISLR%20Seventh%20Printing.pdf), Chapter 2.1: What Is Statistical Learning?"
      ]
    },
    {
      "cell_type": "code",
      "metadata": {
        "id": "o9eSnDYhUGD7"
      },
      "source": [
        "import sys\n",
        "\n",
        "# If you're on Colab:\n",
        "if 'google.colab' in sys.modules:\n",
        "    DATA_PATH = 'https://raw.githubusercontent.com/LambdaSchool/DS-Unit-2-Applied-Modeling/master/data/'\n",
        "\n",
        "# If you're working locally:\n",
        "else:\n",
        "    DATA_PATH = '../data/'\n",
        "    \n",
        "# Ignore this Numpy warning when using Plotly Express:\n",
        "# FutureWarning: Method .ptp is deprecated and will be removed in a future version. Use numpy.ptp instead.\n",
        "import warnings\n",
        "warnings.filterwarnings(action='ignore', category=FutureWarning, module='numpy')"
      ],
      "execution_count": 1,
      "outputs": []
    },
    {
      "cell_type": "code",
      "metadata": {
        "id": "4S2wXSrFV_g4"
      },
      "source": [
        "# Read New York City apartment rental listing data\n",
        "import pandas as pd\n",
        "df = pd.read_csv(DATA_PATH+'apartments/renthop-nyc.csv',\n",
        "                 parse_dates=['created'],\n",
        "                 index_col='created')\n",
        "#assert df.shape == (49352, 34)"
      ],
      "execution_count": 8,
      "outputs": []
    },
    {
      "cell_type": "code",
      "metadata": {
        "id": "IftUxjQnMK06"
      },
      "source": [
        "# Remove outliers: \n",
        "# the most extreme 1% prices,\n",
        "# the most extreme .1% latitudes, &\n",
        "# the most extreme .1% longitudes\n",
        "df = df[(df['price'] >= 1375) & (df['price'] <= 15500) & \n",
        "        (df['latitude'] >=40.57) & (df['latitude'] < 40.99) &\n",
        "        (df['longitude'] >= -74.1) & (df['longitude'] <= -73.38)]"
      ],
      "execution_count": 3,
      "outputs": []
    },
    {
      "cell_type": "markdown",
      "metadata": {
        "id": "ikytO4nSMwoy"
      },
      "source": [
        "# EDA"
      ]
    },
    {
      "cell_type": "code",
      "metadata": {
        "id": "0Tdex8ZPMoe9",
        "outputId": "a1d739af-7f34-4738-f0b3-fa9c9e8732f7",
        "colab": {
          "base_uri": "https://localhost:8080/",
          "height": 34
        }
      },
      "source": [
        "df.shape"
      ],
      "execution_count": 10,
      "outputs": [
        {
          "output_type": "execute_result",
          "data": {
            "text/plain": [
              "(49352, 33)"
            ]
          },
          "metadata": {
            "tags": []
          },
          "execution_count": 10
        }
      ]
    },
    {
      "cell_type": "code",
      "metadata": {
        "id": "A-aFCDMQMyto"
      },
      "source": [
        "df.info()"
      ],
      "execution_count": null,
      "outputs": []
    },
    {
      "cell_type": "code",
      "metadata": {
        "id": "X5boLJuzMz9H"
      },
      "source": [
        "df.head(20)"
      ],
      "execution_count": null,
      "outputs": []
    },
    {
      "cell_type": "code",
      "metadata": {
        "id": "eG5cHY1PXAKX"
      },
      "source": [
        "df['total_rooms'] = df['bedrooms'] + df['bathrooms']"
      ],
      "execution_count": 54,
      "outputs": []
    },
    {
      "cell_type": "markdown",
      "metadata": {
        "id": "NDLM4LSlOgBw"
      },
      "source": [
        "# Find a relationship"
      ]
    },
    {
      "cell_type": "code",
      "metadata": {
        "id": "SUi-UrN9M4_I"
      },
      "source": [
        "import matplotlib.pyplot as plt\n"
      ],
      "execution_count": 13,
      "outputs": []
    },
    {
      "cell_type": "code",
      "metadata": {
        "id": "SlNpWhxiPf2G",
        "outputId": "be7c0b1a-f70d-42c8-ec44-1c2e60ecde4f",
        "colab": {
          "base_uri": "https://localhost:8080/",
          "height": 279
        }
      },
      "source": [
        "df['bathrooms'].plot(kind='hist')\n",
        "plt.xlabel('n of bathrooms');"
      ],
      "execution_count": 34,
      "outputs": [
        {
          "output_type": "display_data",
          "data": {
            "image/png": "[encoded data removed]",
            "text/plain": [
              "<Figure size 432x288 with 1 Axes>"
            ]
          },
          "metadata": {
            "tags": [],
            "needs_background": "light"
          }
        }
      ]
    },
    {
      "cell_type": "code",
      "metadata": {
        "id": "TAooAto1T-YX",
        "outputId": "15945ac2-d348-4279-fedf-e08f5860cb47",
        "colab": {
          "base_uri": "https://localhost:8080/",
          "height": 279
        }
      },
      "source": [
        "df['bedrooms'].plot(kind='hist')\n",
        "plt.xlabel('n of bedrooms');"
      ],
      "execution_count": 35,
      "outputs": [
        {
          "output_type": "display_data",
          "data": {
            "image/png": "[encoded data removed]",
            "text/plain": [
              "<Figure size 432x288 with 1 Axes>"
            ]
          },
          "metadata": {
            "tags": [],
            "needs_background": "light"
          }
        }
      ]
    },
    {
      "cell_type": "code",
      "metadata": {
        "id": "uuC1obP5UWkM",
        "outputId": "7c5d5cb1-e143-4939-962f-2d03ad511ce8",
        "colab": {
          "base_uri": "https://localhost:8080/",
          "height": 279
        }
      },
      "source": [
        "df['price'].plot(kind='hist')\n",
        "plt.xlabel('cost of apartment');"
      ],
      "execution_count": 39,
      "outputs": [
        {
          "output_type": "display_data",
          "data": {
            "image/png": "[encoded data removed]",
            "text/plain": [
              "<Figure size 432x288 with 1 Axes>"
            ]
          },
          "metadata": {
            "tags": [],
            "needs_background": "light"
          }
        }
      ]
    },
    {
      "cell_type": "code",
      "metadata": {
        "id": "3-BUFdi6WK6y",
        "outputId": "55e0a8f1-957b-44c7-8ad0-969d1426767b",
        "colab": {
          "base_uri": "https://localhost:8080/",
          "height": 290
        }
      },
      "source": [
        "plt.scatter(df['bathrooms'], df['price'])\n",
        "plt.xlabel('bathrooms')\n",
        "plt.ylabel('cost');"
      ],
      "execution_count": 49,
      "outputs": [
        {
          "output_type": "display_data",
          "data": {
            "image/png": "[encoded data removed]",
            "text/plain": [
              "<Figure size 432x288 with 1 Axes>"
            ]
          },
          "metadata": {
            "tags": [],
            "needs_background": "light"
          }
        }
      ]
    },
    {
      "cell_type": "code",
      "metadata": {
        "id": "5kBqYdA3PnP9",
        "outputId": "98e79d5d-580d-4ca5-f2db-93a16085e831",
        "colab": {
          "base_uri": "https://localhost:8080/",
          "height": 290
        }
      },
      "source": [
        "plt.scatter(df['bedrooms'], df['price'])\n",
        "plt.xlabel('bedrooms')\n",
        "plt.ylabel('cost');"
      ],
      "execution_count": 46,
      "outputs": [
        {
          "output_type": "display_data",
          "data": {
            "image/png": "[encoded data removed]",
            "text/plain": [
              "<Figure size 432x288 with 1 Axes>"
            ]
          },
          "metadata": {
            "tags": [],
            "needs_background": "light"
          }
        }
      ]
    },
    {
      "cell_type": "markdown",
      "metadata": {
        "id": "cH2MOdtDXiAU"
      },
      "source": [
        "# Is there a corelation between the number of rooms and the price?"
      ]
    },
    {
      "cell_type": "code",
      "metadata": {
        "id": "VM5PLKXwQzIS",
        "outputId": "84a0b67f-cbe8-481b-b92b-dd27ddd5bbe3",
        "colab": {
          "base_uri": "https://localhost:8080/",
          "height": 235
        }
      },
      "source": [
        "df[['bathrooms', 'bedrooms', 'price', 'total_rooms', 'EST_cost', 'error']].head()"
      ],
      "execution_count": 63,
      "outputs": [
        {
          "output_type": "execute_result",
          "data": {
            "text/html": [
              "<div>\n",
              "<style scoped>\n",
              "    .dataframe tbody tr th:only-of-type {\n",
              "        vertical-align: middle;\n",
              "    }\n",
              "\n",
              "    .dataframe tbody tr th {\n",
              "        vertical-align: top;\n",
              "    }\n",
              "\n",
              "    .dataframe thead th {\n",
              "        text-align: right;\n",
              "    }\n",
              "</style>\n",
              "<table border=\"1\" class=\"dataframe\">\n",
              "  <thead>\n",
              "    <tr style=\"text-align: right;\">\n",
              "      <th></th>\n",
              "      <th>bathrooms</th>\n",
              "      <th>bedrooms</th>\n",
              "      <th>price</th>\n",
              "      <th>total_rooms</th>\n",
              "      <th>EST_cost</th>\n",
              "      <th>error</th>\n",
              "    </tr>\n",
              "    <tr>\n",
              "      <th>created</th>\n",
              "      <th></th>\n",
              "      <th></th>\n",
              "      <th></th>\n",
              "      <th></th>\n",
              "      <th></th>\n",
              "      <th></th>\n",
              "    </tr>\n",
              "  </thead>\n",
              "  <tbody>\n",
              "    <tr>\n",
              "      <th>2016-06-24 07:54:24</th>\n",
              "      <td>1.5</td>\n",
              "      <td>3</td>\n",
              "      <td>3000</td>\n",
              "      <td>4.5</td>\n",
              "      <td>6412.5</td>\n",
              "      <td>3412.5</td>\n",
              "    </tr>\n",
              "    <tr>\n",
              "      <th>2016-06-12 12:19:27</th>\n",
              "      <td>1.0</td>\n",
              "      <td>2</td>\n",
              "      <td>5465</td>\n",
              "      <td>3.0</td>\n",
              "      <td>4275.0</td>\n",
              "      <td>1190.0</td>\n",
              "    </tr>\n",
              "    <tr>\n",
              "      <th>2016-04-17 03:26:41</th>\n",
              "      <td>1.0</td>\n",
              "      <td>1</td>\n",
              "      <td>2850</td>\n",
              "      <td>2.0</td>\n",
              "      <td>2850.0</td>\n",
              "      <td>0.0</td>\n",
              "    </tr>\n",
              "    <tr>\n",
              "      <th>2016-04-18 02:22:02</th>\n",
              "      <td>1.0</td>\n",
              "      <td>1</td>\n",
              "      <td>3275</td>\n",
              "      <td>2.0</td>\n",
              "      <td>2850.0</td>\n",
              "      <td>425.0</td>\n",
              "    </tr>\n",
              "    <tr>\n",
              "      <th>2016-04-28 01:32:41</th>\n",
              "      <td>1.0</td>\n",
              "      <td>4</td>\n",
              "      <td>3350</td>\n",
              "      <td>5.0</td>\n",
              "      <td>7125.0</td>\n",
              "      <td>3775.0</td>\n",
              "    </tr>\n",
              "  </tbody>\n",
              "</table>\n",
              "</div>"
            ],
            "text/plain": [
              "                     bathrooms  bedrooms  price  total_rooms  EST_cost   error\n",
              "created                                                                       \n",
              "2016-06-24 07:54:24        1.5         3   3000          4.5    6412.5  3412.5\n",
              "2016-06-12 12:19:27        1.0         2   5465          3.0    4275.0  1190.0\n",
              "2016-04-17 03:26:41        1.0         1   2850          2.0    2850.0     0.0\n",
              "2016-04-18 02:22:02        1.0         1   3275          2.0    2850.0   425.0\n",
              "2016-04-28 01:32:41        1.0         4   3350          5.0    7125.0  3775.0"
            ]
          },
          "metadata": {
            "tags": []
          },
          "execution_count": 63
        }
      ]
    },
    {
      "cell_type": "code",
      "metadata": {
        "id": "EZTTcUGLREO5",
        "outputId": "035180a0-7517-4c5d-e4a2-5e6961920167",
        "colab": {
          "base_uri": "https://localhost:8080/",
          "height": 34
        }
      },
      "source": [
        "2850 / 2\n",
        "# estimated price would be price divided by n of rooms"
      ],
      "execution_count": 58,
      "outputs": [
        {
          "output_type": "execute_result",
          "data": {
            "text/plain": [
              "1425.0"
            ]
          },
          "metadata": {
            "tags": []
          },
          "execution_count": 58
        }
      ]
    },
    {
      "cell_type": "code",
      "metadata": {
        "id": "CZp_0XlxYkdQ"
      },
      "source": [
        "# function for estimate price to rent an apartment\n",
        "def price_range(room):\n",
        "  cost = room * 1425\n",
        "  return cost\n",
        "df['EST_cost'] = df['total_rooms'].apply(price_range)\n"
      ],
      "execution_count": 60,
      "outputs": []
    },
    {
      "cell_type": "code",
      "metadata": {
        "id": "Wn-gtQ3sZLLL",
        "outputId": "64af39e4-f7b3-4c22-f455-d0a477c2f3fb",
        "colab": {
          "base_uri": "https://localhost:8080/",
          "height": 34
        }
      },
      "source": [
        "# look for absolute difference\n",
        "\n",
        "df['error'] = abs(df['price'] - df['EST_cost'])\n",
        "df['error'].mean()"
      ],
      "execution_count": 64,
      "outputs": [
        {
          "output_type": "execute_result",
          "data": {
            "text/plain": [
              "1479.480861971146"
            ]
          },
          "metadata": {
            "tags": []
          },
          "execution_count": 64
        }
      ]
    },
    {
      "cell_type": "code",
      "metadata": {
        "id": "j1PzzqQ-haXc",
        "outputId": "147b67d8-ead6-47dd-d77f-7db8ae79d193",
        "colab": {
          "base_uri": "https://localhost:8080/",
          "height": 290
        }
      },
      "source": [
        "plt.scatter(df['total_rooms'], df['price'])\n",
        "plt.plot(df['total_rooms'], df['EST_cost'], color='r', label='by hand model')\n",
        "plt.xlabel('n of rooms')\n",
        "plt.legend()\n",
        "plt.ylabel('cost');"
      ],
      "execution_count": 69,
      "outputs": [
        {
          "output_type": "display_data",
          "data": {
            "image/png": "[encoded data removed]",
            "text/plain": [
              "<Figure size 432x288 with 1 Axes>"
            ]
          },
          "metadata": {
            "tags": [],
            "needs_background": "light"
          }
        }
      ]
    },
    {
      "cell_type": "markdown",
      "metadata": {
        "id": "p2jE_gFZiVsr"
      },
      "source": [
        "## The number of rooms should increase the cost to rent an apartment."
      ]
    },
    {
      "cell_type": "markdown",
      "metadata": {
        "id": "_RkcPW7Oiw2C"
      },
      "source": [
        "# Scikit-learn method"
      ]
    },
    {
      "cell_type": "code",
      "metadata": {
        "id": "IwbYV8Qdh9f6",
        "outputId": "4e7a1277-55b7-47df-930b-254b530e0bef",
        "colab": {
          "base_uri": "https://localhost:8080/",
          "height": 34
        }
      },
      "source": [
        "#split data\n",
        "\n",
        "target = 'price'\n",
        "y = df[target]\n",
        "X = df[['total_rooms']]"
      ],
      "execution_count": 73,
      "outputs": [
        {
          "output_type": "execute_result",
          "data": {
            "text/plain": [
              "(49352,)"
            ]
          },
          "metadata": {
            "tags": []
          },
          "execution_count": 73
        }
      ]
    },
    {
      "cell_type": "code",
      "metadata": {
        "id": "nt5j7aj2i52f",
        "outputId": "943bfd7a-ab47-40a5-9f3e-8a4aa97643c5",
        "colab": {
          "base_uri": "https://localhost:8080/",
          "height": 269
        }
      },
      "source": [
        "# confirm dimensions\n",
        "print(y.shape)\n",
        "print(X.shape)\n",
        "X.head()"
      ],
      "execution_count": 75,
      "outputs": [
        {
          "output_type": "stream",
          "text": [
            "(49352,)\n",
            "(49352, 1)\n"
          ],
          "name": "stdout"
        },
        {
          "output_type": "execute_result",
          "data": {
            "text/html": [
              "<div>\n",
              "<style scoped>\n",
              "    .dataframe tbody tr th:only-of-type {\n",
              "        vertical-align: middle;\n",
              "    }\n",
              "\n",
              "    .dataframe tbody tr th {\n",
              "        vertical-align: top;\n",
              "    }\n",
              "\n",
              "    .dataframe thead th {\n",
              "        text-align: right;\n",
              "    }\n",
              "</style>\n",
              "<table border=\"1\" class=\"dataframe\">\n",
              "  <thead>\n",
              "    <tr style=\"text-align: right;\">\n",
              "      <th></th>\n",
              "      <th>total_rooms</th>\n",
              "    </tr>\n",
              "    <tr>\n",
              "      <th>created</th>\n",
              "      <th></th>\n",
              "    </tr>\n",
              "  </thead>\n",
              "  <tbody>\n",
              "    <tr>\n",
              "      <th>2016-06-24 07:54:24</th>\n",
              "      <td>4.5</td>\n",
              "    </tr>\n",
              "    <tr>\n",
              "      <th>2016-06-12 12:19:27</th>\n",
              "      <td>3.0</td>\n",
              "    </tr>\n",
              "    <tr>\n",
              "      <th>2016-04-17 03:26:41</th>\n",
              "      <td>2.0</td>\n",
              "    </tr>\n",
              "    <tr>\n",
              "      <th>2016-04-18 02:22:02</th>\n",
              "      <td>2.0</td>\n",
              "    </tr>\n",
              "    <tr>\n",
              "      <th>2016-04-28 01:32:41</th>\n",
              "      <td>5.0</td>\n",
              "    </tr>\n",
              "  </tbody>\n",
              "</table>\n",
              "</div>"
            ],
            "text/plain": [
              "                     total_rooms\n",
              "created                         \n",
              "2016-06-24 07:54:24          4.5\n",
              "2016-06-12 12:19:27          3.0\n",
              "2016-04-17 03:26:41          2.0\n",
              "2016-04-18 02:22:02          2.0\n",
              "2016-04-28 01:32:41          5.0"
            ]
          },
          "metadata": {
            "tags": []
          },
          "execution_count": 75
        }
      ]
    },
    {
      "cell_type": "code",
      "metadata": {
        "id": "Xx5OTX_YjMKO",
        "outputId": "635d4124-c08f-40f0-cfb7-b69e71d12472",
        "colab": {
          "base_uri": "https://localhost:8080/",
          "height": 34
        }
      },
      "source": [
        "# baseline\n",
        "y.mean()\n"
      ],
      "execution_count": 76,
      "outputs": [
        {
          "output_type": "execute_result",
          "data": {
            "text/plain": [
              "3830.174035500081"
            ]
          },
          "metadata": {
            "tags": []
          },
          "execution_count": 76
        }
      ]
    },
    {
      "cell_type": "code",
      "metadata": {
        "id": "PVQhnj9DjVCy",
        "outputId": "ad0b62e7-09d9-41e1-cc09-318b47ba8f44",
        "colab": {
          "base_uri": "https://localhost:8080/",
          "height": 34
        }
      },
      "source": [
        "from sklearn.metrics import mean_absolute_error\n",
        "print('Baseline MAE:', mean_absolute_error(y, [y.mean()]*len(y)))"
      ],
      "execution_count": 85,
      "outputs": [
        {
          "output_type": "stream",
          "text": [
            "Baseline MAE: 1549.6424487275\n"
          ],
          "name": "stdout"
        }
      ]
    },
    {
      "cell_type": "code",
      "metadata": {
        "id": "6Uz03CIAjYd3"
      },
      "source": [
        "# linear regession model\n",
        "# import\n",
        "from sklearn.linear_model import LinearRegression\n",
        "# instantiate\n",
        "model = LinearRegression()\n",
        "# train the model\n",
        "model.fit(X,y)\n",
        "# predict\n",
        "y_predict = model.predict(X)\n"
      ],
      "execution_count": 86,
      "outputs": []
    },
    {
      "cell_type": "code",
      "metadata": {
        "id": "e2zu-YjRkmVi",
        "outputId": "49161b18-b1e8-4527-d5d8-edf14fd09ee4",
        "colab": {
          "base_uri": "https://localhost:8080/",
          "height": 34
        }
      },
      "source": [
        "# Check metrics\n",
        "print('Training MAE:', mean_absolute_error(y, y_predict))"
      ],
      "execution_count": 87,
      "outputs": [
        {
          "output_type": "stream",
          "text": [
            "Training MAE: 1227.0061056686068\n"
          ],
          "name": "stdout"
        }
      ]
    },
    {
      "cell_type": "code",
      "metadata": {
        "id": "5MvLVeTFkuOK",
        "outputId": "00eacaca-2024-4a1b-c858-3c6d9aa94b07",
        "colab": {
          "base_uri": "https://localhost:8080/",
          "height": 51
        }
      },
      "source": [
        "# interpret\n",
        "print(model.coef_)\n",
        "print(model.intercept_)"
      ],
      "execution_count": 89,
      "outputs": [
        {
          "output_type": "stream",
          "text": [
            "[977.9307045]\n",
            "1137.1293910945901\n"
          ],
          "name": "stdout"
        }
      ]
    },
    {
      "cell_type": "markdown",
      "metadata": {
        "id": "9kspJoi7k9Wc"
      },
      "source": [
        "Formula will be: Price = 1137.13 + 977.93 x n_of_room"
      ]
    },
    {
      "cell_type": "code",
      "metadata": {
        "id": "MOHViKZOkyKG",
        "outputId": "9c21d0ac-a36b-48bd-f58a-ff7f6303197c",
        "colab": {
          "base_uri": "https://localhost:8080/",
          "height": 290
        }
      },
      "source": [
        "# plot\n",
        "plt.scatter(X, y)\n",
        "plt.plot(X, y_predict, color='r', label='model')\n",
        "plt.legend()\n",
        "plt.xlabel('n of rooms')\n",
        "plt.ylabel('Cost to rent an apartment');"
      ],
      "execution_count": 90,
      "outputs": [
        {
          "output_type": "display_data",
          "data": {
            "image/png": "[encoded data removed]",
            "text/plain": [
              "<Figure size 432x288 with 1 Axes>"
            ]
          },
          "metadata": {
            "tags": [],
            "needs_background": "light"
          }
        }
      ]
    }
  ]
}