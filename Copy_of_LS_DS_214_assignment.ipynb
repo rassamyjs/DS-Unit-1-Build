{
  "nbformat": 4,
  "nbformat_minor": 0,
  "metadata": {
    "kernelspec": {
      "display_name": "Python 3",
      "language": "python",
      "name": "python3"
    },
    "language_info": {
      "codemirror_mode": {
        "name": "ipython",
        "version": 3
      },
      "file_extension": ".py",
      "mimetype": "text/x-python",
      "name": "python",
      "nbconvert_exporter": "python",
      "pygments_lexer": "ipython3",
      "version": "3.7.3"
    },
    "colab": {
      "name": "Copy of LS_DS_214_assignment.ipynb",
      "provenance": [],
      "include_colab_link": true
    }
  },
  "cells": [
    {
      "cell_type": "markdown",
      "metadata": {
        "id": "view-in-github",
        "colab_type": "text"
      },
      "source": [
        "<a href=\"https://colab.research.google.com/github/rassamyjs/DS-Unit-1-Build/blob/master/Copy_of_LS_DS_214_assignment.ipynb\" target=\"_parent\"><img src=\"https://colab.research.google.com/assets/colab-badge.svg\" alt=\"Open In Colab\"/></a>"
      ]
    },
    {
      "cell_type": "markdown",
      "metadata": {
        "id": "-GX1Uy-2iHUP"
      },
      "source": [
        "Lambda School Data Science\n",
        "\n",
        "*Unit 2, Sprint 1, Module 4*\n",
        "\n",
        "---"
      ]
    },
    {
      "cell_type": "markdown",
      "metadata": {
        "id": "7IXUfiQ2UKj6"
      },
      "source": [
        "# Logistic Regression\n",
        "\n",
        "\n",
        "## Assignment 🌯\n",
        "\n",
        "You'll use a [**dataset of 400+ burrito reviews**](https://srcole.github.io/100burritos/). How accurately can you predict whether a burrito is rated 'Great'?\n",
        "\n",
        "> We have developed a 10-dimensional system for rating the burritos in San Diego. ... Generate models for what makes a burrito great and investigate correlations in its dimensions.\n",
        "\n",
        "- [ ] Do train/validate/test split. Train on reviews from 2016 & earlier. Validate on 2017. Test on 2018 & later.\n",
        "- [ ] Begin with baselines for classification.\n",
        "- [ ] Use scikit-learn for logistic regression.\n",
        "- [ ] Get your model's validation accuracy. (Multiple times if you try multiple iterations.)\n",
        "- [ ] Get your model's test accuracy. (One time, at the end.)\n",
        "- [ ] Commit your notebook to your fork of the GitHub repo.\n",
        "\n",
        "\n",
        "## Stretch Goals\n",
        "\n",
        "- [ ] Add your own stretch goal(s) !\n",
        "- [ ] Make exploratory visualizations.\n",
        "- [ ] Do one-hot encoding.\n",
        "- [ ] Do [feature scaling](https://scikit-learn.org/stable/modules/preprocessing.html).\n",
        "- [ ] Get and plot your coefficients.\n",
        "- [ ] Try [scikit-learn pipelines](https://scikit-learn.org/stable/modules/compose.html)."
      ]
    },
    {
      "cell_type": "code",
      "metadata": {
        "id": "o9eSnDYhUGD7"
      },
      "source": [
        "%%capture\n",
        "import sys\n",
        "\n",
        "# If you're on Colab:\n",
        "if 'google.colab' in sys.modules:\n",
        "    DATA_PATH = 'https://raw.githubusercontent.com/LambdaSchool/DS-Unit-2-Linear-Models/master/data/'\n",
        "    !pip install category_encoders==2.*\n",
        "\n",
        "# If you're working locally:\n",
        "else:\n",
        "    DATA_PATH = '../data/'"
      ],
      "execution_count": 25,
      "outputs": []
    },
    {
      "cell_type": "code",
      "metadata": {
        "id": "Tdlss1EpiHUW"
      },
      "source": [
        "# Load data downloaded from https://srcole.github.io/100burritos/\n",
        "import pandas as pd\n",
        "df = pd.read_csv(DATA_PATH+'burritos/burritos.csv')"
      ],
      "execution_count": 26,
      "outputs": []
    },
    {
      "cell_type": "code",
      "metadata": {
        "id": "dOor7r0xiHUa"
      },
      "source": [
        "# Derive binary classification target:\n",
        "# We define a 'Great' burrito as having an\n",
        "# overall rating of 4 or higher, on a 5 point scale.\n",
        "# Drop unrated burritos.\n",
        "df = df.dropna(subset=['overall'])\n",
        "df['Great'] = df['overall'] >= 4"
      ],
      "execution_count": 27,
      "outputs": []
    },
    {
      "cell_type": "code",
      "metadata": {
        "id": "s0Pe1YApiHUd"
      },
      "source": [
        "# Clean/combine the Burrito categories\n",
        "df['Burrito'] = df['Burrito'].str.lower()\n",
        "\n",
        "california = df['Burrito'].str.contains('california')\n",
        "asada = df['Burrito'].str.contains('asada')\n",
        "surf = df['Burrito'].str.contains('surf')\n",
        "carnitas = df['Burrito'].str.contains('carnitas')\n",
        "\n",
        "df.loc[california, 'Burrito'] = 'California'\n",
        "df.loc[asada, 'Burrito'] = 'Asada'\n",
        "df.loc[surf, 'Burrito'] = 'Surf & Turf'\n",
        "df.loc[carnitas, 'Burrito'] = 'Carnitas'\n",
        "df.loc[~california & ~asada & ~surf & ~carnitas, 'Burrito'] = 'Other'"
      ],
      "execution_count": 28,
      "outputs": []
    },
    {
      "cell_type": "code",
      "metadata": {
        "id": "RXvuEC4yiHUg"
      },
      "source": [
        "# Drop some high cardinality categoricals\n",
        "df = df.drop(columns=['Notes', 'Location', 'Reviewer', 'Address', 'URL', 'Neighborhood'])"
      ],
      "execution_count": 29,
      "outputs": []
    },
    {
      "cell_type": "code",
      "metadata": {
        "id": "ppFDNO0ziHUi"
      },
      "source": [
        "# Drop some columns to prevent \"leakage\"\n",
        "df = df.drop(columns=['Rec', 'overall'])"
      ],
      "execution_count": 30,
      "outputs": []
    },
    {
      "cell_type": "code",
      "metadata": {
        "id": "myT4HMvojjbh",
        "outputId": "17ba8ba6-5139-4d8e-8399-dd0b4eea1cfe",
        "colab": {
          "base_uri": "https://localhost:8080/",
          "height": 1000
        }
      },
      "source": [
        "df.info()"
      ],
      "execution_count": 53,
      "outputs": [
        {
          "output_type": "stream",
          "text": [
            "<class 'pandas.core.frame.DataFrame'>\n",
            "Int64Index: 421 entries, 0 to 422\n",
            "Data columns (total 59 columns):\n",
            " #   Column          Non-Null Count  Dtype         \n",
            "---  ------          --------------  -----         \n",
            " 0   Burrito         421 non-null    object        \n",
            " 1   Date            421 non-null    datetime64[ns]\n",
            " 2   Yelp            87 non-null     float64       \n",
            " 3   Google          87 non-null     float64       \n",
            " 4   Chips           26 non-null     object        \n",
            " 5   Cost            414 non-null    float64       \n",
            " 6   Hunger          418 non-null    float64       \n",
            " 7   Mass (g)        22 non-null     float64       \n",
            " 8   Density (g/mL)  22 non-null     float64       \n",
            " 9   Length          283 non-null    float64       \n",
            " 10  Circum          281 non-null    float64       \n",
            " 11  Volume          281 non-null    float64       \n",
            " 12  Tortilla        421 non-null    float64       \n",
            " 13  Temp            401 non-null    float64       \n",
            " 14  Meat            407 non-null    float64       \n",
            " 15  Fillings        418 non-null    float64       \n",
            " 16  Meat:filling    412 non-null    float64       \n",
            " 17  Uniformity      419 non-null    float64       \n",
            " 18  Salsa           396 non-null    float64       \n",
            " 19  Synergy         419 non-null    float64       \n",
            " 20  Wrap            418 non-null    float64       \n",
            " 21  Unreliable      33 non-null     object        \n",
            " 22  NonSD           7 non-null      object        \n",
            " 23  Beef            179 non-null    object        \n",
            " 24  Pico            158 non-null    object        \n",
            " 25  Guac            154 non-null    object        \n",
            " 26  Cheese          159 non-null    object        \n",
            " 27  Fries           127 non-null    object        \n",
            " 28  Sour cream      92 non-null     object        \n",
            " 29  Pork            51 non-null     object        \n",
            " 30  Chicken         21 non-null     object        \n",
            " 31  Shrimp          21 non-null     object        \n",
            " 32  Fish            6 non-null      object        \n",
            " 33  Rice            36 non-null     object        \n",
            " 34  Beans           35 non-null     object        \n",
            " 35  Lettuce         11 non-null     object        \n",
            " 36  Tomato          7 non-null      object        \n",
            " 37  Bell peper      7 non-null      object        \n",
            " 38  Carrots         1 non-null      object        \n",
            " 39  Cabbage         8 non-null      object        \n",
            " 40  Sauce           38 non-null     object        \n",
            " 41  Salsa.1         7 non-null      object        \n",
            " 42  Cilantro        15 non-null     object        \n",
            " 43  Onion           17 non-null     object        \n",
            " 44  Taquito         4 non-null      object        \n",
            " 45  Pineapple       7 non-null      object        \n",
            " 46  Ham             2 non-null      object        \n",
            " 47  Chile relleno   4 non-null      object        \n",
            " 48  Nopales         4 non-null      object        \n",
            " 49  Lobster         1 non-null      object        \n",
            " 50  Queso           0 non-null      float64       \n",
            " 51  Egg             5 non-null      object        \n",
            " 52  Mushroom        3 non-null      object        \n",
            " 53  Bacon           3 non-null      object        \n",
            " 54  Sushi           2 non-null      object        \n",
            " 55  Avocado         13 non-null     object        \n",
            " 56  Corn            3 non-null      object        \n",
            " 57  Zucchini        1 non-null      object        \n",
            " 58  Great           421 non-null    bool          \n",
            "dtypes: bool(1), datetime64[ns](1), float64(19), object(38)\n",
            "memory usage: 194.5+ KB\n"
          ],
          "name": "stdout"
        }
      ]
    },
    {
      "cell_type": "code",
      "metadata": {
        "id": "5nz2oE7Wo1rQ"
      },
      "source": [
        "df.head()"
      ],
      "execution_count": null,
      "outputs": []
    },
    {
      "cell_type": "code",
      "metadata": {
        "id": "jEbhQSKSiHUl"
      },
      "source": [
        "# Date to year/month column to datetime & drop Date\n",
        "df['Date'] = pd.to_datetime(df['Date'])\n",
        "df['Year'] = df['Date'].dt.year\n",
        "df['Month'] = df['Date'].dt.month\n",
        "type(df['Year'][0])\n",
        "df = df.drop(columns='Date')"
      ],
      "execution_count": 93,
      "outputs": []
    },
    {
      "cell_type": "code",
      "metadata": {
        "id": "qGUqccbrxvlX"
      },
      "source": [
        "df.head()"
      ],
      "execution_count": null,
      "outputs": []
    },
    {
      "cell_type": "markdown",
      "metadata": {
        "id": "QcjZl5D8ioOb"
      },
      "source": [
        "*  Do train/validate/test split. Train on reviews from 2016 & earlier. Validate on 2017. Test on 2018 & later."
      ]
    },
    {
      "cell_type": "code",
      "metadata": {
        "id": "taOpfH4gi4wX"
      },
      "source": [
        "# training data\n",
        "train = df[df['Year'] <= 2016]\n",
        "validate = df[df['Year'] == 2017]\n",
        "test = df[df['Year'] >= 2018]\n"
      ],
      "execution_count": 95,
      "outputs": []
    },
    {
      "cell_type": "code",
      "metadata": {
        "id": "8C4FLmSamdcB",
        "outputId": "0dc8be25-3a42-47ae-dde2-9959d65759b0",
        "colab": {
          "base_uri": "https://localhost:8080/",
          "height": 34
        }
      },
      "source": [
        "train.shape, validate.shape, test.shape, df.shape"
      ],
      "execution_count": 116,
      "outputs": [
        {
          "output_type": "execute_result",
          "data": {
            "text/plain": [
              "((298, 60), (85, 60), (38, 60), (421, 60))"
            ]
          },
          "metadata": {
            "tags": []
          },
          "execution_count": 116
        }
      ]
    },
    {
      "cell_type": "code",
      "metadata": {
        "id": "LFFSVOjC0WCl",
        "outputId": "835aedd9-6edd-4553-be9f-bec1e09a73ac",
        "colab": {
          "base_uri": "https://localhost:8080/",
          "height": 68
        }
      },
      "source": [
        "train['Great'].value_counts(normalize=True)"
      ],
      "execution_count": 100,
      "outputs": [
        {
          "output_type": "execute_result",
          "data": {
            "text/plain": [
              "False    0.590604\n",
              "True     0.409396\n",
              "Name: Great, dtype: float64"
            ]
          },
          "metadata": {
            "tags": []
          },
          "execution_count": 100
        }
      ]
    },
    {
      "cell_type": "code",
      "metadata": {
        "id": "lYW-J_Y3nCk9"
      },
      "source": [
        "#Split target vector from feature matrix\n",
        "target = 'Great'\n",
        "y = train[target]\n",
        "X = train.drop(columns=target)\n",
        "y1 = validate[target]\n",
        "X1 = validate.drop(columns=target)\n"
      ],
      "execution_count": 97,
      "outputs": []
    },
    {
      "cell_type": "code",
      "metadata": {
        "id": "94DihH7rvFq5"
      },
      "source": [
        "# training and validation sets\n",
        "from sklearn.model_selection import train_test_split\n",
        "X_train, X_val, y_train, y_val = train_test_split(X, y, test_size=0.2, random_state=42)\n",
        "X_validate, X_val1, y_validate, y_val1 = train_test_split(X1, y1, test_size=0.2, random_state=42)"
      ],
      "execution_count": 104,
      "outputs": []
    },
    {
      "cell_type": "markdown",
      "metadata": {
        "id": "KY4bul2P1AXa"
      },
      "source": [
        "- Is this a regression or classification\n",
        "- This is going off of accuaracy = classification"
      ]
    },
    {
      "cell_type": "code",
      "metadata": {
        "id": "FPfmEpXGrcaX",
        "outputId": "737dd767-eba7-4aae-e805-3c2f990b7652",
        "colab": {
          "base_uri": "https://localhost:8080/",
          "height": 34
        }
      },
      "source": [
        "# Establish Baseline\n",
        "print('Baseline accuracy:', y_train.value_counts(normalize=True).max())\n"
      ],
      "execution_count": 106,
      "outputs": [
        {
          "output_type": "stream",
          "text": [
            "Baseline accuracy: 0.5840336134453782\n"
          ],
          "name": "stdout"
        }
      ]
    },
    {
      "cell_type": "markdown",
      "metadata": {
        "id": "XxBDO9jf1n4R"
      },
      "source": [
        "# Build Our `LogisticRegression` Model"
      ]
    },
    {
      "cell_type": "code",
      "metadata": {
        "id": "I5lNt1Cz1TZ9",
        "outputId": "1c3cc256-258e-4ccf-8f71-f43fe50a7057",
        "colab": {
          "base_uri": "https://localhost:8080/",
          "height": 51
        }
      },
      "source": [
        "from category_encoders import OneHotEncoder\n",
        "from sklearn.impute import SimpleImputer\n",
        "from sklearn.linear_model import LinearRegression, LogisticRegression\n",
        "from sklearn.pipeline import make_pipeline\n",
        "from sklearn.preprocessing import StandardScaler"
      ],
      "execution_count": 107,
      "outputs": [
        {
          "output_type": "stream",
          "text": [
            "/usr/local/lib/python3.6/dist-packages/statsmodels/tools/_testing.py:19: FutureWarning: pandas.util.testing is deprecated. Use the functions in the public API at pandas.testing instead.\n",
            "  import pandas.util.testing as tm\n"
          ],
          "name": "stderr"
        }
      ]
    },
    {
      "cell_type": "code",
      "metadata": {
        "id": "5TzgfIt01wfC",
        "outputId": "03ad2274-a2af-40a7-cf6e-8810f9eebb93",
        "colab": {
          "base_uri": "https://localhost:8080/",
          "height": 51
        }
      },
      "source": [
        "model_log = make_pipeline(\n",
        "       OneHotEncoder(use_cat_names=True),\n",
        "       SimpleImputer(),\n",
        "       StandardScaler(),\n",
        "       LogisticRegression()\n",
        ")\n",
        "\n",
        "model_log.fit(X_train, y_train);\n"
      ],
      "execution_count": 111,
      "outputs": [
        {
          "output_type": "stream",
          "text": [
            "/usr/local/lib/python3.6/dist-packages/category_encoders/utils.py:21: FutureWarning: is_categorical is deprecated and will be removed in a future version.  Use is_categorical_dtype instead\n",
            "  elif pd.api.types.is_categorical(cols):\n"
          ],
          "name": "stderr"
        }
      ]
    },
    {
      "cell_type": "code",
      "metadata": {
        "id": "xjUWEEH924AS",
        "outputId": "487cca7c-feeb-489f-cbda-06a56cf781d9",
        "colab": {
          "base_uri": "https://localhost:8080/",
          "height": 51
        }
      },
      "source": [
        "# logistic metric\n",
        "print('Training Accuracy Score:', model_log.score(X_train, y_train))\n",
        "print('Validation Accuracy Score:', model_log.score(X_val, y_val))"
      ],
      "execution_count": 112,
      "outputs": [
        {
          "output_type": "stream",
          "text": [
            "Training Accuracy Score: 0.9369747899159664\n",
            "Validation Accuracy Score: 0.9333333333333333\n"
          ],
          "name": "stdout"
        }
      ]
    },
    {
      "cell_type": "code",
      "metadata": {
        "id": "pSGjwdwM3Zvh",
        "outputId": "89ef0850-f2d7-4079-c740-9e1b25eb028b",
        "colab": {
          "base_uri": "https://localhost:8080/",
          "height": 51
        }
      },
      "source": [
        "# model for validate \n",
        "model_log1 = make_pipeline(\n",
        "       OneHotEncoder(use_cat_names=True),\n",
        "       SimpleImputer(),\n",
        "       StandardScaler(),\n",
        "       LogisticRegression()\n",
        ")\n",
        "\n",
        "model_log1.fit(X_validate, y_validate);\n"
      ],
      "execution_count": 113,
      "outputs": [
        {
          "output_type": "stream",
          "text": [
            "/usr/local/lib/python3.6/dist-packages/category_encoders/utils.py:21: FutureWarning: is_categorical is deprecated and will be removed in a future version.  Use is_categorical_dtype instead\n",
            "  elif pd.api.types.is_categorical(cols):\n"
          ],
          "name": "stderr"
        }
      ]
    },
    {
      "cell_type": "code",
      "metadata": {
        "id": "jLsOhhhA3Da-",
        "outputId": "e34cb78f-6a0c-46fe-fbc2-f85659b2c7d3",
        "colab": {
          "base_uri": "https://localhost:8080/",
          "height": 51
        }
      },
      "source": [
        "# validate metric\n",
        "print('Training Accuracy Score:', model_log1.score(X_validate, y_validate))\n",
        "print('Validation Accuracy Score:', model_log1.score(X_val1, y_val1))"
      ],
      "execution_count": 114,
      "outputs": [
        {
          "output_type": "stream",
          "text": [
            "Training Accuracy Score: 0.9852941176470589\n",
            "Validation Accuracy Score: 0.7058823529411765\n"
          ],
          "name": "stdout"
        }
      ]
    },
    {
      "cell_type": "markdown",
      "metadata": {
        "id": "gLc18Rpx32D6"
      },
      "source": [
        "# Get your model's test accuracy. (One time, at the end.)"
      ]
    },
    {
      "cell_type": "code",
      "metadata": {
        "id": "qDWqaY644ftq",
        "outputId": "cf8c1300-a8cb-420e-f921-6ac5868bd68a",
        "colab": {
          "base_uri": "https://localhost:8080/",
          "height": 34
        }
      },
      "source": [
        "test1 = test \n",
        "test1 = test1.drop(columns='Great')\n",
        "print(test1.shape)"
      ],
      "execution_count": 122,
      "outputs": [
        {
          "output_type": "stream",
          "text": [
            "(38, 59)\n"
          ],
          "name": "stdout"
        }
      ]
    },
    {
      "cell_type": "code",
      "metadata": {
        "id": "LuBczQB533GY",
        "outputId": "ab784186-15ab-4b4b-bfc7-6c67c9c50400",
        "colab": {
          "base_uri": "https://localhost:8080/",
          "height": 1000
        }
      },
      "source": [
        "# test model\n",
        "y_pred = model_log.predict(test1)\n",
        "# convert to dataframe\n",
        "convert = pd.DataFrame(y_pred, columns=['Great'])\n",
        "convert"
      ],
      "execution_count": 125,
      "outputs": [
        {
          "output_type": "execute_result",
          "data": {
            "text/html": [
              "<div>\n",
              "<style scoped>\n",
              "    .dataframe tbody tr th:only-of-type {\n",
              "        vertical-align: middle;\n",
              "    }\n",
              "\n",
              "    .dataframe tbody tr th {\n",
              "        vertical-align: top;\n",
              "    }\n",
              "\n",
              "    .dataframe thead th {\n",
              "        text-align: right;\n",
              "    }\n",
              "</style>\n",
              "<table border=\"1\" class=\"dataframe\">\n",
              "  <thead>\n",
              "    <tr style=\"text-align: right;\">\n",
              "      <th></th>\n",
              "      <th>Great</th>\n",
              "    </tr>\n",
              "  </thead>\n",
              "  <tbody>\n",
              "    <tr>\n",
              "      <th>0</th>\n",
              "      <td>True</td>\n",
              "    </tr>\n",
              "    <tr>\n",
              "      <th>1</th>\n",
              "      <td>True</td>\n",
              "    </tr>\n",
              "    <tr>\n",
              "      <th>2</th>\n",
              "      <td>False</td>\n",
              "    </tr>\n",
              "    <tr>\n",
              "      <th>3</th>\n",
              "      <td>True</td>\n",
              "    </tr>\n",
              "    <tr>\n",
              "      <th>4</th>\n",
              "      <td>False</td>\n",
              "    </tr>\n",
              "    <tr>\n",
              "      <th>5</th>\n",
              "      <td>False</td>\n",
              "    </tr>\n",
              "    <tr>\n",
              "      <th>6</th>\n",
              "      <td>True</td>\n",
              "    </tr>\n",
              "    <tr>\n",
              "      <th>7</th>\n",
              "      <td>True</td>\n",
              "    </tr>\n",
              "    <tr>\n",
              "      <th>8</th>\n",
              "      <td>True</td>\n",
              "    </tr>\n",
              "    <tr>\n",
              "      <th>9</th>\n",
              "      <td>True</td>\n",
              "    </tr>\n",
              "    <tr>\n",
              "      <th>10</th>\n",
              "      <td>True</td>\n",
              "    </tr>\n",
              "    <tr>\n",
              "      <th>11</th>\n",
              "      <td>False</td>\n",
              "    </tr>\n",
              "    <tr>\n",
              "      <th>12</th>\n",
              "      <td>False</td>\n",
              "    </tr>\n",
              "    <tr>\n",
              "      <th>13</th>\n",
              "      <td>True</td>\n",
              "    </tr>\n",
              "    <tr>\n",
              "      <th>14</th>\n",
              "      <td>True</td>\n",
              "    </tr>\n",
              "    <tr>\n",
              "      <th>15</th>\n",
              "      <td>True</td>\n",
              "    </tr>\n",
              "    <tr>\n",
              "      <th>16</th>\n",
              "      <td>True</td>\n",
              "    </tr>\n",
              "    <tr>\n",
              "      <th>17</th>\n",
              "      <td>False</td>\n",
              "    </tr>\n",
              "    <tr>\n",
              "      <th>18</th>\n",
              "      <td>False</td>\n",
              "    </tr>\n",
              "    <tr>\n",
              "      <th>19</th>\n",
              "      <td>False</td>\n",
              "    </tr>\n",
              "    <tr>\n",
              "      <th>20</th>\n",
              "      <td>False</td>\n",
              "    </tr>\n",
              "    <tr>\n",
              "      <th>21</th>\n",
              "      <td>True</td>\n",
              "    </tr>\n",
              "    <tr>\n",
              "      <th>22</th>\n",
              "      <td>True</td>\n",
              "    </tr>\n",
              "    <tr>\n",
              "      <th>23</th>\n",
              "      <td>True</td>\n",
              "    </tr>\n",
              "    <tr>\n",
              "      <th>24</th>\n",
              "      <td>True</td>\n",
              "    </tr>\n",
              "    <tr>\n",
              "      <th>25</th>\n",
              "      <td>False</td>\n",
              "    </tr>\n",
              "    <tr>\n",
              "      <th>26</th>\n",
              "      <td>False</td>\n",
              "    </tr>\n",
              "    <tr>\n",
              "      <th>27</th>\n",
              "      <td>True</td>\n",
              "    </tr>\n",
              "    <tr>\n",
              "      <th>28</th>\n",
              "      <td>True</td>\n",
              "    </tr>\n",
              "    <tr>\n",
              "      <th>29</th>\n",
              "      <td>True</td>\n",
              "    </tr>\n",
              "    <tr>\n",
              "      <th>30</th>\n",
              "      <td>False</td>\n",
              "    </tr>\n",
              "    <tr>\n",
              "      <th>31</th>\n",
              "      <td>True</td>\n",
              "    </tr>\n",
              "    <tr>\n",
              "      <th>32</th>\n",
              "      <td>True</td>\n",
              "    </tr>\n",
              "    <tr>\n",
              "      <th>33</th>\n",
              "      <td>False</td>\n",
              "    </tr>\n",
              "    <tr>\n",
              "      <th>34</th>\n",
              "      <td>True</td>\n",
              "    </tr>\n",
              "    <tr>\n",
              "      <th>35</th>\n",
              "      <td>True</td>\n",
              "    </tr>\n",
              "    <tr>\n",
              "      <th>36</th>\n",
              "      <td>True</td>\n",
              "    </tr>\n",
              "    <tr>\n",
              "      <th>37</th>\n",
              "      <td>True</td>\n",
              "    </tr>\n",
              "  </tbody>\n",
              "</table>\n",
              "</div>"
            ],
            "text/plain": [
              "    Great\n",
              "0    True\n",
              "1    True\n",
              "2   False\n",
              "3    True\n",
              "4   False\n",
              "5   False\n",
              "6    True\n",
              "7    True\n",
              "8    True\n",
              "9    True\n",
              "10   True\n",
              "11  False\n",
              "12  False\n",
              "13   True\n",
              "14   True\n",
              "15   True\n",
              "16   True\n",
              "17  False\n",
              "18  False\n",
              "19  False\n",
              "20  False\n",
              "21   True\n",
              "22   True\n",
              "23   True\n",
              "24   True\n",
              "25  False\n",
              "26  False\n",
              "27   True\n",
              "28   True\n",
              "29   True\n",
              "30  False\n",
              "31   True\n",
              "32   True\n",
              "33  False\n",
              "34   True\n",
              "35   True\n",
              "36   True\n",
              "37   True"
            ]
          },
          "metadata": {
            "tags": []
          },
          "execution_count": 125
        }
      ]
    },
    {
      "cell_type": "code",
      "metadata": {
        "id": "Aj565SUw6CoM"
      },
      "source": [
        ""
      ],
      "execution_count": null,
      "outputs": []
    }
  ]
}